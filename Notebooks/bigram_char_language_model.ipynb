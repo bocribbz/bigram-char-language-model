{
 "cells": [
  {
   "cell_type": "code",
   "execution_count": 22,
   "id": "ea8cfa98-1888-4e51-9290-7f9148b96952",
   "metadata": {},
   "outputs": [],
   "source": [
    "# !pip install torch"
   ]
  },
  {
   "cell_type": "code",
   "execution_count": 1,
   "id": "c755ac08-c077-4545-884f-57fa739449b2",
   "metadata": {},
   "outputs": [],
   "source": [
    "words = open(\"rocities.txt\", \"r\").read().splitlines()"
   ]
  },
  {
   "cell_type": "code",
   "execution_count": 2,
   "id": "a8b8bbfd-6353-425a-8c06-fa310d6782d2",
   "metadata": {},
   "outputs": [
    {
     "data": {
      "text/plain": [
       "['1 DECEMBRIE',\n",
       " '2 MAI',\n",
       " '23 AUGUST',\n",
       " 'ABRAM',\n",
       " 'ABRAMUT',\n",
       " 'ABRUD',\n",
       " 'ABRUD-SAT',\n",
       " 'ABUCEA',\n",
       " 'ABUD',\n",
       " 'ABUS']"
      ]
     },
     "execution_count": 2,
     "metadata": {},
     "output_type": "execute_result"
    }
   ],
   "source": [
    "words[:10]"
   ]
  },
  {
   "cell_type": "code",
   "execution_count": 3,
   "id": "eb6ddc8b-f082-4ed4-87f5-1a6d83f15faa",
   "metadata": {},
   "outputs": [
    {
     "data": {
      "text/plain": [
       "10148"
      ]
     },
     "execution_count": 3,
     "metadata": {},
     "output_type": "execute_result"
    }
   ],
   "source": [
    "len(words)"
   ]
  },
  {
   "cell_type": "code",
   "execution_count": 4,
   "id": "2debec5e-7f5d-4181-b33e-bc256601cfbf",
   "metadata": {},
   "outputs": [
    {
     "data": {
      "text/plain": [
       "3"
      ]
     },
     "execution_count": 4,
     "metadata": {},
     "output_type": "execute_result"
    }
   ],
   "source": [
    "min(len(w) for w in words)"
   ]
  },
  {
   "cell_type": "code",
   "execution_count": 5,
   "id": "c465d3e5-56e7-47fe-874b-1925daaa89d4",
   "metadata": {},
   "outputs": [
    {
     "data": {
      "text/plain": [
       "33"
      ]
     },
     "execution_count": 5,
     "metadata": {},
     "output_type": "execute_result"
    }
   ],
   "source": [
    "max(len(w) for w in words)"
   ]
  },
  {
   "cell_type": "code",
   "execution_count": 11,
   "id": "aa52235f-df32-4f80-8dc8-dcd9891bfe1e",
   "metadata": {},
   "outputs": [],
   "source": [
    "b = {}\n",
    "for w in words:\n",
    "    chs = ['<S>'] + list(w) + ['<E>']\n",
    "    for ch1, ch2 in zip(chs, chs[1:]):\n",
    "        bigram = (ch1, ch2)\n",
    "        b[bigram] = b.get(bigram, 0) + 1"
   ]
  },
  {
   "cell_type": "code",
   "execution_count": 21,
   "id": "26e3b8fa-0fb5-45b1-aad7-6cb755df60a2",
   "metadata": {},
   "outputs": [
    {
     "data": {
      "text/plain": [
       "[(('I', '<E>'), 3726),\n",
       " (('A', '<E>'), 2515),\n",
       " (('T', 'I'), 2021),\n",
       " (('S', 'T'), 2005),\n",
       " (('E', 'S'), 1736),\n",
       " (('A', 'R'), 1653),\n",
       " (('N', 'I'), 1650),\n",
       " (('A', 'N'), 1520),\n",
       " (('<S>', 'C'), 1395),\n",
       " (('R', 'A'), 1316)]"
      ]
     },
     "execution_count": 21,
     "metadata": {},
     "output_type": "execute_result"
    }
   ],
   "source": [
    "sorted(b.items(), key=lambda kv: -kv[1])[:10]"
   ]
  },
  {
   "cell_type": "code",
   "execution_count": 23,
   "id": "b3c12be7-c2a1-4984-83af-32ba7b34df49",
   "metadata": {},
   "outputs": [],
   "source": [
    "import torch"
   ]
  },
  {
   "cell_type": "code",
   "execution_count": 46,
   "id": "25524103-5949-4fdc-8bbf-2407a69b1e74",
   "metadata": {},
   "outputs": [],
   "source": [
    "chars = sorted(list(set(''.join(words))))\n",
    "count_chars = len(chars)\n",
    "stoi = {s: i for i,s in enumerate(chars)}\n",
    "stoi['<S>'] = count_chars + 1\n",
    "stoi['<E>'] = count_chars + 2\n",
    "count_all_chars = len(stoi.keys())\n",
    "N = torch.zeros((count_all_chars+1, count_all_chars+1), dtype=torch.int32)"
   ]
  },
  {
   "cell_type": "code",
   "execution_count": 47,
   "id": "ebed3a6b-b44d-438a-8383-1b077e73f558",
   "metadata": {},
   "outputs": [],
   "source": [
    "for w in words:\n",
    "    chs = ['<S>'] + list(w) + ['<E>']\n",
    "    for ch1, ch2 in zip(chs, chs[1:]):\n",
    "        ix1 = stoi[ch1]\n",
    "        ix2 = stoi[ch2]\n",
    "        N[ix1, ix2] += 1"
   ]
  },
  {
   "cell_type": "code",
   "execution_count": 49,
   "id": "787521dd-fe2f-47ae-8a6e-f61c5d0a9f12",
   "metadata": {},
   "outputs": [
    {
     "data": {
      "text/plain": [
       "tensor([[0, 0, 0,  ..., 0, 0, 0],\n",
       "        [0, 0, 0,  ..., 0, 0, 0],\n",
       "        [6, 0, 0,  ..., 0, 0, 1],\n",
       "        ...,\n",
       "        [0, 0, 0,  ..., 0, 0, 0],\n",
       "        [0, 0, 0,  ..., 0, 0, 0],\n",
       "        [0, 0, 0,  ..., 0, 0, 0]], dtype=torch.int32)"
      ]
     },
     "execution_count": 49,
     "metadata": {},
     "output_type": "execute_result"
    }
   ],
   "source": [
    "N"
   ]
  }
 ],
 "metadata": {
  "kernelspec": {
   "display_name": "Python 3 (ipykernel)",
   "language": "python",
   "name": "python3"
  },
  "language_info": {
   "codemirror_mode": {
    "name": "ipython",
    "version": 3
   },
   "file_extension": ".py",
   "mimetype": "text/x-python",
   "name": "python",
   "nbconvert_exporter": "python",
   "pygments_lexer": "ipython3",
   "version": "3.11.6"
  }
 },
 "nbformat": 4,
 "nbformat_minor": 5
}
